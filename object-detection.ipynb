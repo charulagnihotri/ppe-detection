{
 "cells": [
  {
   "cell_type": "code",
   "execution_count": 5,
   "id": "17b34b64-edcb-418f-bc77-8d7ff0cb89e1",
   "metadata": {},
   "outputs": [],
   "source": [
    "import cv2\n",
    "import cvlib as cv\n",
    "from cvlib.object_detection import draw_bbox"
   ]
  },
  {
   "cell_type": "code",
   "execution_count": 9,
   "id": "31e29497-b41b-4a97-b871-505d9188607a",
   "metadata": {},
   "outputs": [
    {
     "name": "stdout",
     "output_type": "stream",
     "text": [
      "Downloading yolov4.cfg from https://raw.githubusercontent.com/AlexeyAB/darknet/master/cfg/yolov4.cfg\n"
     ]
    },
    {
     "name": "stderr",
     "output_type": "stream",
     "text": [
      "100% |#########################################################################|\r"
     ]
    },
    {
     "ename": "ValueError",
     "evalue": "Value out of range",
     "output_type": "error",
     "traceback": [
      "\u001b[0;31m---------------------------------------------------------------------------\u001b[0m",
      "\u001b[0;31mValueError\u001b[0m                                Traceback (most recent call last)",
      "Cell \u001b[0;32mIn[9], line 9\u001b[0m\n\u001b[1;32m      5\u001b[0m ret, frame \u001b[38;5;241m=\u001b[39m video\u001b[38;5;241m.\u001b[39mread()\n\u001b[1;32m      6\u001b[0m \u001b[38;5;66;03m# Bounding box.\u001b[39;00m\n\u001b[1;32m      7\u001b[0m \u001b[38;5;66;03m# the cvlib library has learned some basic objects using object learning\u001b[39;00m\n\u001b[1;32m      8\u001b[0m \u001b[38;5;66;03m# usually it takes around 800 images for it to learn what a phone is.\u001b[39;00m\n\u001b[0;32m----> 9\u001b[0m bbox, label, conf \u001b[38;5;241m=\u001b[39m cv\u001b[38;5;241m.\u001b[39mdetect_common_objects(frame)\n\u001b[1;32m     11\u001b[0m output_image \u001b[38;5;241m=\u001b[39m draw_bbox(frame, bbox, label, conf)\n\u001b[1;32m     13\u001b[0m cv2\u001b[38;5;241m.\u001b[39mimshow(\u001b[38;5;124m\"\u001b[39m\u001b[38;5;124mDetection\u001b[39m\u001b[38;5;124m\"\u001b[39m, output_image)\n",
      "File \u001b[0;32m/opt/anaconda3/lib/python3.12/site-packages/cvlib/object_detection.py:115\u001b[0m, in \u001b[0;36mdetect_common_objects\u001b[0;34m(image, confidence, nms_thresh, model, enable_gpu)\u001b[0m\n\u001b[1;32m    112\u001b[0m weights_file_abs_path \u001b[38;5;241m=\u001b[39m dest_dir \u001b[38;5;241m+\u001b[39m os\u001b[38;5;241m.\u001b[39mpath\u001b[38;5;241m.\u001b[39msep \u001b[38;5;241m+\u001b[39m weights_file_name    \n\u001b[1;32m    114\u001b[0m \u001b[38;5;28;01mif\u001b[39;00m \u001b[38;5;129;01mnot\u001b[39;00m os\u001b[38;5;241m.\u001b[39mpath\u001b[38;5;241m.\u001b[39mexists(config_file_abs_path):\n\u001b[0;32m--> 115\u001b[0m     download_file(url\u001b[38;5;241m=\u001b[39mcfg_url, file_name\u001b[38;5;241m=\u001b[39mconfig_file_name, dest_dir\u001b[38;5;241m=\u001b[39mdest_dir)\n\u001b[1;32m    117\u001b[0m \u001b[38;5;28;01mif\u001b[39;00m \u001b[38;5;129;01mnot\u001b[39;00m os\u001b[38;5;241m.\u001b[39mpath\u001b[38;5;241m.\u001b[39mexists(weights_file_abs_path):\n\u001b[1;32m    118\u001b[0m     download_file(url\u001b[38;5;241m=\u001b[39mweights_url, file_name\u001b[38;5;241m=\u001b[39mweights_file_name, dest_dir\u001b[38;5;241m=\u001b[39mdest_dir)    \n",
      "File \u001b[0;32m/opt/anaconda3/lib/python3.12/site-packages/cvlib/utils.py:42\u001b[0m, in \u001b[0;36mdownload_file\u001b[0;34m(url, file_name, dest_dir)\u001b[0m\n\u001b[1;32m     40\u001b[0m     \u001b[38;5;28;01mfor\u001b[39;00m chunk \u001b[38;5;129;01min\u001b[39;00m  r\u001b[38;5;241m.\u001b[39miter_content(chunk_size\u001b[38;5;241m=\u001b[39mchunk_size):\n\u001b[1;32m     41\u001b[0m         file\u001b[38;5;241m.\u001b[39mwrite(chunk)\n\u001b[0;32m---> 42\u001b[0m         bar\u001b[38;5;241m.\u001b[39mupdate(count)\n\u001b[1;32m     43\u001b[0m         count \u001b[38;5;241m+\u001b[39m\u001b[38;5;241m=\u001b[39m\u001b[38;5;241m1\u001b[39m\n\u001b[1;32m     45\u001b[0m \u001b[38;5;28;01mreturn\u001b[39;00m full_path_to_file\n",
      "File \u001b[0;32m/opt/anaconda3/lib/python3.12/site-packages/progressbar/progressbar.py:250\u001b[0m, in \u001b[0;36mProgressBar.update\u001b[0;34m(self, value)\u001b[0m\n\u001b[1;32m    246\u001b[0m \u001b[38;5;28;01mif\u001b[39;00m value \u001b[38;5;129;01mis\u001b[39;00m \u001b[38;5;129;01mnot\u001b[39;00m \u001b[38;5;28;01mNone\u001b[39;00m \u001b[38;5;129;01mand\u001b[39;00m value \u001b[38;5;129;01mis\u001b[39;00m \u001b[38;5;129;01mnot\u001b[39;00m widgets\u001b[38;5;241m.\u001b[39mUnknownLength:\n\u001b[1;32m    247\u001b[0m     \u001b[38;5;28;01mif\u001b[39;00m (\u001b[38;5;28mself\u001b[39m\u001b[38;5;241m.\u001b[39mmaxval \u001b[38;5;129;01mis\u001b[39;00m \u001b[38;5;129;01mnot\u001b[39;00m widgets\u001b[38;5;241m.\u001b[39mUnknownLength\n\u001b[1;32m    248\u001b[0m         \u001b[38;5;129;01mand\u001b[39;00m \u001b[38;5;129;01mnot\u001b[39;00m \u001b[38;5;241m0\u001b[39m \u001b[38;5;241m<\u001b[39m\u001b[38;5;241m=\u001b[39m value \u001b[38;5;241m<\u001b[39m\u001b[38;5;241m=\u001b[39m \u001b[38;5;28mself\u001b[39m\u001b[38;5;241m.\u001b[39mmaxval):\n\u001b[0;32m--> 250\u001b[0m         \u001b[38;5;28;01mraise\u001b[39;00m \u001b[38;5;167;01mValueError\u001b[39;00m(\u001b[38;5;124m'\u001b[39m\u001b[38;5;124mValue out of range\u001b[39m\u001b[38;5;124m'\u001b[39m)\n\u001b[1;32m    252\u001b[0m     \u001b[38;5;28mself\u001b[39m\u001b[38;5;241m.\u001b[39mcurrval \u001b[38;5;241m=\u001b[39m value\n\u001b[1;32m    255\u001b[0m \u001b[38;5;28;01mif\u001b[39;00m \u001b[38;5;129;01mnot\u001b[39;00m \u001b[38;5;28mself\u001b[39m\u001b[38;5;241m.\u001b[39m_need_update(): \u001b[38;5;28;01mreturn\u001b[39;00m\n",
      "\u001b[0;31mValueError\u001b[0m: Value out of range"
     ]
    }
   ],
   "source": [
    "video = cv2.VideoCapture(0)\n",
    "labels = []\n",
    "\n",
    "while True:\n",
    "    ret, frame = video.read()\n",
    "    # Bounding box.\n",
    "    # the cvlib library has learned some basic objects using object learning\n",
    "    # usually it takes around 800 images for it to learn what a phone is.\n",
    "    bbox, label, conf = cv.detect_common_objects(frame)\n",
    "\n",
    "    output_image = draw_bbox(frame, bbox, label, conf)\n",
    "\n",
    "    cv2.imshow(\"Detection\", output_image)\n",
    "\n",
    "    for item in label:\n",
    "        if item in labels:\n",
    "            pass\n",
    "        else:\n",
    "            labels.append(item)\n",
    "\n",
    "    if cv2.waitKey(1) & 0xFF == ord(\"q\"):\n",
    "        break"
   ]
  },
  {
   "cell_type": "code",
   "execution_count": null,
   "id": "11795705-47d5-46fd-a882-c0ca00d2d3dc",
   "metadata": {},
   "outputs": [],
   "source": []
  }
 ],
 "metadata": {
  "kernelspec": {
   "display_name": "Python 3 (ipykernel)",
   "language": "python",
   "name": "python3"
  },
  "language_info": {
   "codemirror_mode": {
    "name": "ipython",
    "version": 3
   },
   "file_extension": ".py",
   "mimetype": "text/x-python",
   "name": "python",
   "nbconvert_exporter": "python",
   "pygments_lexer": "ipython3",
   "version": "3.12.4"
  }
 },
 "nbformat": 4,
 "nbformat_minor": 5
}
